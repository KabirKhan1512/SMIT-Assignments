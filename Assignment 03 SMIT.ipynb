{
 "cells": [
  {
   "cell_type": "markdown",
   "id": "e3edb31d-b112-42e8-84e4-2ad4d97d68f2",
   "metadata": {},
   "source": [
    "# Assignment 3 Quenstion No. 1"
   ]
  },
  {
   "cell_type": "code",
   "execution_count": 27,
   "id": "5ccaf938-766b-4668-be6f-e0f0ef4e0fb9",
   "metadata": {},
   "outputs": [
    {
     "name": "stdin",
     "output_type": "stream",
     "text": [
      "Enter a word:  kabir\n"
     ]
    },
    {
     "name": "stdout",
     "output_type": "stream",
     "text": [
      "The number of vowels in word kabir is 2.\n"
     ]
    }
   ],
   "source": [
    "word = input(\"Enter a word: \").lower()\n",
    "vowels = 0\n",
    "\n",
    "\n",
    "for i in word:\n",
    "    if i == \"a\" or i == \"e\" or i == \"i\" or i == \"o\" or i == \"u\":\n",
    "        vowels += 1\n",
    "        \n",
    "print(f\"The number of vowels in word {word} is {vowels}.\")"
   ]
  },
  {
   "cell_type": "markdown",
   "id": "0f98d84c-6755-4474-83ac-ce0df91a22ca",
   "metadata": {},
   "source": [
    "# Assignment 3 Question 2"
   ]
  },
  {
   "cell_type": "code",
   "execution_count": 49,
   "id": "a2c90fa8-5aee-483f-a90d-bf044fcf5730",
   "metadata": {},
   "outputs": [
    {
     "name": "stdin",
     "output_type": "stream",
     "text": [
      "Enter a word:  Kabir Khan Noor e Hamza Islamic College 1234\n"
     ]
    },
    {
     "name": "stdout",
     "output_type": "stream",
     "text": [
      "Kabir Khan Noor e Hamza Islamic College 1234\n",
      "The given word has 6 upper letters, 27 lower letters, 4 digits and 7 spaces.\n"
     ]
    }
   ],
   "source": [
    "word = input(\"Enter a word: \")\n",
    "print(word)\n",
    "\n",
    "upper = 0\n",
    "lower = 0\n",
    "digits = 0\n",
    "space = 0\n",
    "\n",
    "for i in word:\n",
    "    if i.isupper():\n",
    "        upper += 1\n",
    "    elif i.islower():\n",
    "        lower += 1\n",
    "    elif i.isdigit():\n",
    "        digits += 1\n",
    "    elif i.isspace():\n",
    "        space += 1\n",
    "\n",
    "print(f\"The given word has {upper} upper letters, {lower} lower letters, {digits} digits and {space} spaces.\")"
   ]
  },
  {
   "cell_type": "markdown",
   "id": "d8834566-0e4b-476e-93ee-6c829fcb57b7",
   "metadata": {},
   "source": [
    "# Assignment 3 Question 3"
   ]
  },
  {
   "cell_type": "code",
   "execution_count": 6,
   "id": "19a40b50-05d0-45d1-b7b2-c4f93f112891",
   "metadata": {},
   "outputs": [
    {
     "name": "stdin",
     "output_type": "stream",
     "text": [
      "Write a word:  HELLO\n"
     ]
    },
    {
     "name": "stdout",
     "output_type": "stream",
     "text": [
      "OELLH\n"
     ]
    }
   ],
   "source": [
    "word = input(\"Write a word: \")\n",
    "\n",
    "new_word = word[-1] + word[1:-1] + word[0]\n",
    "print(new_word)\n",
    "\n"
   ]
  },
  {
   "cell_type": "markdown",
   "id": "07768149-0a1c-4283-86ce-6d33ea19fdf5",
   "metadata": {},
   "source": [
    "# Assignment 3 Question 4"
   ]
  },
  {
   "cell_type": "code",
   "execution_count": 51,
   "id": "87546d35-3d81-41bc-82f8-843037d82fb6",
   "metadata": {},
   "outputs": [
    {
     "name": "stdin",
     "output_type": "stream",
     "text": [
      "Write a word:  EXAM\n"
     ]
    },
    {
     "name": "stdout",
     "output_type": "stream",
     "text": [
      "MAXE"
     ]
    }
   ],
   "source": [
    "word = input(\"Write a word: \")\n",
    "\n",
    "for i in range(-1, -len(word)-1, -1):\n",
    "    print(word[i], end=\"\")"
   ]
  },
  {
   "cell_type": "markdown",
   "id": "a5d41f59-3f0c-47fc-92b4-881654c5f9c7",
   "metadata": {},
   "source": [
    "# Assignment 3 Question 5"
   ]
  },
  {
   "cell_type": "code",
   "execution_count": 8,
   "id": "601a5b22-80a8-4a19-8769-0d92ce9e6a49",
   "metadata": {},
   "outputs": [
    {
     "name": "stdin",
     "output_type": "stream",
     "text": [
      "Write a word:  examination 2021\n"
     ]
    },
    {
     "name": "stdout",
     "output_type": "stream",
     "text": [
      "xamination 2021e\n"
     ]
    }
   ],
   "source": [
    "word = input(\"Write a word: \")\n",
    "\n",
    "new_word = word[1::] + word[0]\n",
    "\n",
    "print(new_word)"
   ]
  },
  {
   "cell_type": "markdown",
   "id": "fd9e1e7d-6725-4153-abda-b73fd354b399",
   "metadata": {},
   "source": [
    "# Assignment 3 Question 6"
   ]
  },
  {
   "cell_type": "code",
   "execution_count": 24,
   "id": "991cf8d4-e448-40bb-ac56-c68c350e6dee",
   "metadata": {},
   "outputs": [
    {
     "name": "stdin",
     "output_type": "stream",
     "text": [
      "Write a word:  kabir ud din\n"
     ]
    },
    {
     "name": "stdout",
     "output_type": "stream",
     "text": [
      "K. U. D. \n"
     ]
    }
   ],
   "source": [
    "word = input(\"Write a word: \")\n",
    "\n",
    "new_word = word[0].upper() + \". \"\n",
    "\n",
    "for i in range(1, len(word)):\n",
    "    if word[i] == \" \" and i + 1 < len(word):\n",
    "        new_word += word[i + 1].upper() + \". \"\n",
    "\n",
    "print(new_word)"
   ]
  },
  {
   "cell_type": "markdown",
   "id": "49b482e6-a839-40f4-974e-d9e32975d181",
   "metadata": {},
   "source": [
    "# Assignment 3 Question 7"
   ]
  },
  {
   "cell_type": "code",
   "execution_count": 43,
   "id": "633ea972-2637-4032-bb85-8fed31d66acc",
   "metadata": {},
   "outputs": [
    {
     "name": "stdin",
     "output_type": "stream",
     "text": [
      "Write a word:  madam\n"
     ]
    },
    {
     "name": "stdout",
     "output_type": "stream",
     "text": [
      "The given word madam is a palindrome.\n"
     ]
    }
   ],
   "source": [
    "word = input(\"Write a word: \") \n",
    "word_list = list(word)\n",
    "new_list = []\n",
    "\n",
    "for i in range(-1, -(len(word)+1), -1):\n",
    "    pop_letter = word_list.pop(-1)\n",
    "    new_list.append(pop_letter)\n",
    "\n",
    "new_word = \"\".join(new_list)\n",
    "\n",
    "if word == new_word:\n",
    "    print(f\"The given word {word} is a palindrome.\")\n",
    "else:\n",
    "    print(f\"The given word {word} is not a palindrome.\")"
   ]
  },
  {
   "cell_type": "markdown",
   "id": "192f1db7-7705-40e7-8de0-738abdc5f4be",
   "metadata": {},
   "source": [
    "# Assignment 3 Question 7"
   ]
  },
  {
   "cell_type": "code",
   "execution_count": 47,
   "id": "941fe1c4-5a68-4530-9b96-eac4f37c297c",
   "metadata": {},
   "outputs": [
    {
     "name": "stdin",
     "output_type": "stream",
     "text": [
      "Write a word:  madam\n"
     ]
    },
    {
     "name": "stdout",
     "output_type": "stream",
     "text": [
      "The given word madam is a palindrome.\n"
     ]
    }
   ],
   "source": [
    "word = input(\"Write a word: \")\n",
    "word_list = []\n",
    "for i in range(-1, -len(word)-1, -1):\n",
    "    word_list.append(word[i])\n",
    "new_word = \"\".join(word_list)\n",
    "if word == new_word:\n",
    "    print(f\"The given word {word} is a palindrome.\")\n",
    "else:\n",
    "    print(f\"The given word {word} is not a palindrome.\")"
   ]
  },
  {
   "cell_type": "markdown",
   "id": "4c584b5c-fb88-4491-b1b5-0c78af582478",
   "metadata": {},
   "source": [
    "# Assignment 3 Question 8"
   ]
  },
  {
   "cell_type": "code",
   "execution_count": 48,
   "id": "c1c7aac9-6943-454b-8a29-491b4ce8f27d",
   "metadata": {},
   "outputs": [
    {
     "name": "stdin",
     "output_type": "stream",
     "text": [
      "Enter a word:  SHIFT\n"
     ]
    },
    {
     "name": "stdout",
     "output_type": "stream",
     "text": [
      "HIFTS\n",
      "IFTSH\n",
      "FTSHI\n",
      "TSHIF\n",
      "SHIFT\n"
     ]
    }
   ],
   "source": [
    "word = input(\"Enter a word: \")\n",
    "list_word = list(word)\n",
    "\n",
    "\n",
    "for i in list_word:\n",
    "  first_element = list_word.pop(0)\n",
    "  list_word.append(first_element)\n",
    "  print(\"\".join(list_word))"
   ]
  },
  {
   "cell_type": "markdown",
   "id": "6411b30a-0aa6-4dc3-b8ee-2c7acf197d93",
   "metadata": {},
   "source": [
    "# Assignmexnt 3 Question 9"
   ]
  },
  {
   "cell_type": "code",
   "execution_count": 71,
   "id": "b9ce0512-a07a-464d-840a-977b5765a7fd",
   "metadata": {},
   "outputs": [],
   "source": [
    "def password_checker():\n",
    "    password = input(\"Enter a word: \")\n",
    "    upper = 0\n",
    "    lower = 0\n",
    "    digits = 0\n",
    "    \n",
    "    if len(password) >= 8:\n",
    "        pass\n",
    "    else:\n",
    "        print(\"Password should be at least 8 characters.\")\n",
    "        return\n",
    "    \n",
    "    for i in password:\n",
    "            if i.isupper():\n",
    "                upper += 1\n",
    "            elif i.islower():\n",
    "                lower += 1\n",
    "            elif i.isdigit():\n",
    "                digits += 1\n",
    "            elif i.isspace():\n",
    "                space += 1\n",
    "    if upper == 0:\n",
    "        print(\"Your password should contain at least one upper letter.\")\n",
    "        return\n",
    "    elif lower == 0:\n",
    "        print(\"Your password should contain at least one lower letter.\")\n",
    "        return\n",
    "    elif digits == 0:\n",
    "        print(\"Your password should contain at least one digit.\")\n",
    "        return\n",
    "    else:\n",
    "        print(\"Password Accepted!\")"
   ]
  },
  {
   "cell_type": "code",
   "execution_count": 76,
   "id": "baf5f4f0-0d2c-448e-b522-53a5ec7b38d2",
   "metadata": {},
   "outputs": [
    {
     "name": "stdin",
     "output_type": "stream",
     "text": [
      "Enter a word:  Kabirkhan12\n"
     ]
    },
    {
     "name": "stdout",
     "output_type": "stream",
     "text": [
      "Password Accepted!\n"
     ]
    }
   ],
   "source": [
    "password_checker()"
   ]
  },
  {
   "cell_type": "code",
   "execution_count": null,
   "id": "33b7ffbe-bf1c-4837-bdd0-1a6472ee6868",
   "metadata": {},
   "outputs": [],
   "source": []
  }
 ],
 "metadata": {
  "kernelspec": {
   "display_name": "Python 3 (ipykernel)",
   "language": "python",
   "name": "python3"
  },
  "language_info": {
   "codemirror_mode": {
    "name": "ipython",
    "version": 3
   },
   "file_extension": ".py",
   "mimetype": "text/x-python",
   "name": "python",
   "nbconvert_exporter": "python",
   "pygments_lexer": "ipython3",
   "version": "3.12.4"
  }
 },
 "nbformat": 4,
 "nbformat_minor": 5
}
