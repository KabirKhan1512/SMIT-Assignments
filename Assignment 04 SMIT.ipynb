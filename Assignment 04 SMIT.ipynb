{
 "cells": [
  {
   "cell_type": "markdown",
   "id": "d5e1ee18-67d8-4d32-933e-1e4feb6443db",
   "metadata": {},
   "source": [
    "# Assignment 4 Question No. 1"
   ]
  },
  {
   "cell_type": "code",
   "execution_count": 22,
   "id": "b31184dc-85a2-4e14-bc71-609e75d99842",
   "metadata": {},
   "outputs": [
    {
     "name": "stdin",
     "output_type": "stream",
     "text": [
      "How many elements you want to add:  5\n",
      "Enter element to add:  1\n",
      "Enter element to add:  2\n",
      "Enter element to add:  3\n",
      "Enter element to add:  4\n",
      "Enter element to add:  5\n"
     ]
    },
    {
     "name": "stdout",
     "output_type": "stream",
     "text": [
      "['1', '2', '3', '4', '5']\n",
      "['1', '3', '5']\n"
     ]
    }
   ],
   "source": [
    "num = int(input(\"How many elements you want to add: \"))\n",
    "lists = []\n",
    "alternate_list = []\n",
    "\n",
    "for i in range(num):\n",
    "    inpt = input(\"Enter element to add: \")\n",
    "    lists.append(inpt)\n",
    "\n",
    "print(lists)\n",
    "for i in range(len(lists)):\n",
    "    if i % 2 == 0:\n",
    "        alternate_list.append(lists[i])\n",
    "print(alternate_list)"
   ]
  },
  {
   "cell_type": "markdown",
   "id": "7e5e6be3-d130-4006-b138-5f9222a8de15",
   "metadata": {},
   "source": [
    "# Assignment 4 Question No. 2"
   ]
  },
  {
   "cell_type": "code",
   "execution_count": 23,
   "id": "7e436f5c-2b8d-4f51-afaf-2a6c8ed0c4b9",
   "metadata": {},
   "outputs": [
    {
     "name": "stdin",
     "output_type": "stream",
     "text": [
      "How many elements you want to add:  5\n",
      "Enter element to add:  1\n",
      "Enter element to add:  2\n",
      "Enter element to add:  3\n",
      "Enter element to add:  4\n",
      "Enter element to add:  5\n"
     ]
    },
    {
     "name": "stdout",
     "output_type": "stream",
     "text": [
      "['1', '2', '3', '4', '5']\n",
      "['5', '4', '3', '2', '1']\n"
     ]
    }
   ],
   "source": [
    "num = int(input(\"How many elements you want to add: \"))\n",
    "reverse_list = []\n",
    "lists = []\n",
    "\n",
    "for i in range(num):\n",
    "    inpt = input(\"Enter element to add: \")\n",
    "    lists.append(inpt)\n",
    "    reverse_list.insert(0, inpt)\n",
    "\n",
    "print(lists)\n",
    "print(reverse_list)"
   ]
  },
  {
   "cell_type": "markdown",
   "id": "e4854d8b-6dfb-4d26-b46a-a61f834997e9",
   "metadata": {},
   "source": [
    "# Assignment 4 Question No. 3"
   ]
  },
  {
   "cell_type": "code",
   "execution_count": null,
   "id": "83e5ae20-016e-401a-b78b-e06b1cc2808d",
   "metadata": {},
   "outputs": [],
   "source": []
  },
  {
   "cell_type": "markdown",
   "id": "cbaeb7c1-c47a-4c90-9cee-b822a887506d",
   "metadata": {},
   "source": [
    "# Assignment 4 Question No. 4"
   ]
  },
  {
   "cell_type": "code",
   "execution_count": 25,
   "id": "48367d92-7783-4837-97df-c4c7f88759d7",
   "metadata": {},
   "outputs": [
    {
     "name": "stdout",
     "output_type": "stream",
     "text": [
      "['e', 'a', 'b', 'c', 'd']\n"
     ]
    }
   ],
   "source": [
    "lists = ['a', 'b', 'c', 'd', 'e']\n",
    "\n",
    "last_element = lists.pop(-1)\n",
    "lists.insert(0, last_element)\n",
    "\n",
    "print(lists)"
   ]
  },
  {
   "cell_type": "markdown",
   "id": "6c327033-8a6b-447b-a308-8a59cc912a69",
   "metadata": {},
   "source": [
    "# Assignment 4 Question No. 5"
   ]
  },
  {
   "cell_type": "code",
   "execution_count": 53,
   "id": "6925c471-2813-4eb1-b01b-48e4f24a2d10",
   "metadata": {},
   "outputs": [
    {
     "name": "stdin",
     "output_type": "stream",
     "text": [
      "Enter a sentence:  i am a boy\n",
      "Which word you want to delete:  am\n"
     ]
    },
    {
     "name": "stdout",
     "output_type": "stream",
     "text": [
      "i a boy\n"
     ]
    }
   ],
   "source": [
    "sentence = input(\"Enter a sentence: \")\n",
    "\n",
    "del_word = input(\"Which word you want to delete: \")\n",
    "\n",
    "lists = sentence.split(\" \")\n",
    "\n",
    "for i in lists:\n",
    "    if del_word == i:\n",
    "        lists.remove(i)\n",
    "\n",
    "print(\" \".join(lists))\n",
    "        "
   ]
  },
  {
   "cell_type": "markdown",
   "id": "6ea2b0b5-1647-4120-bd59-a4c3f5f8afa9",
   "metadata": {},
   "source": [
    "# Assignment 4 Question No. 6"
   ]
  },
  {
   "cell_type": "code",
   "execution_count": 50,
   "id": "c443ab16-22b3-4251-ad30-d5da40a619f0",
   "metadata": {},
   "outputs": [
    {
     "name": "stdin",
     "output_type": "stream",
     "text": [
      "Enter the date:  8/17/2024\n"
     ]
    },
    {
     "name": "stdout",
     "output_type": "stream",
     "text": [
      "August 17, 2024\n"
     ]
    }
   ],
   "source": [
    "date = input(\"Enter the date: \")\n",
    "months = ['', 'January', 'February', 'March', 'April', 'May', 'June', 'July', 'August', 'September', 'October', 'November', 'December']\n",
    "\n",
    "date_list = date.split(\"/\")\n",
    "\n",
    "if date_list[0] == '1':\n",
    "    print(f\"{months[1]} {date_list[1]}, {date_list[2]}\")\n",
    "elif date_list[0] == '2':\n",
    "    print(f\"{months[2]} {date_list[1]}, {date_list[2]}\")\n",
    "elif date_list[0] == '3':\n",
    "    print(f\"{months[3]} {date_list[1]}, {date_list[2]}\")\n",
    "elif date_list[0] == '4':\n",
    "    print(f\"{months[4]} {date_list[1]}, {date_list[2]}\")\n",
    "elif date_list[0] == '5':\n",
    "    print(f\"{months[5]} {date_list[1]}, {date_list[2]}\")\n",
    "elif date_list[0] == '6':\n",
    "    print(f\"{months[6]} {date_list[1]}, {date_list[2]}\")\n",
    "elif date_list[0] == '7':\n",
    "    print(f\"{months[7]} {date_list[1]}, {date_list[2]}\")\n",
    "elif date_list[0] == '8':\n",
    "    print(f\"{months[8]} {date_list[1]}, {date_list[2]}\")\n",
    "elif date_list[0] == '9':\n",
    "    print(f\"{months[9]} {date_list[1]}, {date_list[2]}\")\n",
    "elif date_list[0] == '10':\n",
    "    print(f\"{months[10]} {date_list[1]}, {date_list[2]}\")\n",
    "elif date_list[0] == '11':\n",
    "    print(f\"{months[11]} {date_list[1]}, {date_list[2]}\")\n",
    "elif date_list[0] == '12':\n",
    "    print(f\"{months[12]} {date_list[1]}, {date_list[2]}\")\n",
    "else:\n",
    "    print(\"Write a correct month.\")"
   ]
  },
  {
   "cell_type": "markdown",
   "id": "493940ac-8487-41ad-9955-c0bbb8328813",
   "metadata": {},
   "source": [
    "# Assignment 4 Question No. 7"
   ]
  },
  {
   "cell_type": "code",
   "execution_count": 55,
   "id": "586722b5-d0e7-4527-b6b5-fa2efb4cf16c",
   "metadata": {},
   "outputs": [
    {
     "name": "stdin",
     "output_type": "stream",
     "text": [
      "Enter a sentence:  stop and smell the roses\n"
     ]
    },
    {
     "name": "stdout",
     "output_type": "stream",
     "text": [
      "Stop And Smell The Roses\n"
     ]
    }
   ],
   "source": [
    "sentence = input(\"Enter a sentence: \")\n",
    "\n",
    "lists = sentence.split(\" \")\n",
    "new_list = []\n",
    "\n",
    "for i in lists:\n",
    "    new_list.append(i.title())\n",
    "\n",
    "print(\" \".join(new_list))"
   ]
  },
  {
   "cell_type": "markdown",
   "id": "11c6f294-8273-49c6-b428-a3c91811cd41",
   "metadata": {},
   "source": [
    "# Assignment 4 Question No. 8"
   ]
  },
  {
   "cell_type": "code",
   "execution_count": 9,
   "id": "1ca6b901-9fc9-48b2-9ce5-f0d75677a6a2",
   "metadata": {},
   "outputs": [
    {
     "name": "stdout",
     "output_type": "stream",
     "text": [
      "32\n",
      "63\n",
      "126\n"
     ]
    }
   ],
   "source": []
  },
  {
   "cell_type": "code",
   "execution_count": 22,
   "id": "f4e87d64-3e50-4be3-894f-410c764d11dd",
   "metadata": {},
   "outputs": [],
   "source": [
    "del matrix"
   ]
  },
  {
   "cell_type": "markdown",
   "id": "1a5c8126-9528-457c-a6ea-e6899049aecb",
   "metadata": {},
   "source": [
    "# Assignment 4 Question No. 9"
   ]
  },
  {
   "cell_type": "code",
   "execution_count": 26,
   "id": "e128acde-1049-4bfa-ab6d-aee174f0223d",
   "metadata": {},
   "outputs": [
    {
     "ename": "NameError",
     "evalue": "name 'matrix' is not defined",
     "output_type": "error",
     "traceback": [
      "\u001b[1;31m---------------------------------------------------------------------------\u001b[0m",
      "\u001b[1;31mNameError\u001b[0m                                 Traceback (most recent call last)",
      "Cell \u001b[1;32mIn[26], line 15\u001b[0m\n\u001b[0;32m      7\u001b[0m matrix_2 \u001b[38;5;241m=\u001b[39m [\n\u001b[0;32m      8\u001b[0m     [\u001b[38;5;241m1\u001b[39m, \u001b[38;5;241m2\u001b[39m, \u001b[38;5;241m3\u001b[39m],\n\u001b[0;32m      9\u001b[0m     [\u001b[38;5;241m5\u001b[39m, \u001b[38;5;241m4\u001b[39m, \u001b[38;5;241m6\u001b[39m],\n\u001b[0;32m     10\u001b[0m     [\u001b[38;5;241m1\u001b[39m, \u001b[38;5;241m5\u001b[39m, \u001b[38;5;241m3\u001b[39m],\n\u001b[0;32m     11\u001b[0m ]\n\u001b[0;32m     14\u001b[0m result \u001b[38;5;241m=\u001b[39m []\n\u001b[1;32m---> 15\u001b[0m \u001b[38;5;28;01mfor\u001b[39;00m i \u001b[38;5;129;01min\u001b[39;00m matrix:\n\u001b[0;32m     16\u001b[0m     \u001b[38;5;28mprint\u001b[39m(i[\u001b[38;5;241m0\u001b[39m] \u001b[38;5;241m+\u001b[39m i[\u001b[38;5;241m1\u001b[39m] \u001b[38;5;241m+\u001b[39m i[\u001b[38;5;241m2\u001b[39m])\n",
      "\u001b[1;31mNameError\u001b[0m: name 'matrix' is not defined"
     ]
    }
   ],
   "source": [
    "matrix_1 = [\n",
    "    [1, 2, 5],\n",
    "    [2, 4, 3],\n",
    "    [1, 2, 1],\n",
    "]\n",
    "\n",
    "matrix_2 = [\n",
    "    [1, 2, 3],\n",
    "    [5, 4, 6],\n",
    "    [1, 5, 3],\n",
    "]\n",
    "\n",
    "\n",
    "result = []\n",
    "for i in matrix:\n",
    "    print(i[0] + i[1] + i[2])"
   ]
  },
  {
   "cell_type": "markdown",
   "id": "1fa665ad-e8a1-42ca-837e-fc219f92ffef",
   "metadata": {},
   "source": [
    "# Assignment 4 Question No. 10"
   ]
  },
  {
   "cell_type": "code",
   "execution_count": null,
   "id": "2b7fd45f-f14f-4317-b276-3fb2501c0bce",
   "metadata": {},
   "outputs": [],
   "source": [
    "matrix_1 = [\n",
    "    [1, 2, 5],\n",
    "    [2, 4, 3],\n",
    "    [1, 2, 1],\n",
    "]\n",
    "\n",
    "matrix_2 = [\n",
    "    [1, 2, 3],\n",
    "    [5, 4, 6],\n",
    "    [1, 5, 3],\n",
    "]\n",
    "\n",
    "\n",
    "result = []\n",
    "for i in range(len(matrix_1)):\n",
    "    row = []\n",
    "    for j in range(len(matrix_1[0])):\n",
    "        sum_value = matrix_1[i][j] + matrix_2[i][j]\n",
    "        row.append(sum_value)\n",
    "    result.append(row)\n",
    "print(result)"
   ]
  }
 ],
 "metadata": {
  "kernelspec": {
   "display_name": "Python 3 (ipykernel)",
   "language": "python",
   "name": "python3"
  },
  "language_info": {
   "codemirror_mode": {
    "name": "ipython",
    "version": 3
   },
   "file_extension": ".py",
   "mimetype": "text/x-python",
   "name": "python",
   "nbconvert_exporter": "python",
   "pygments_lexer": "ipython3",
   "version": "3.12.4"
  }
 },
 "nbformat": 4,
 "nbformat_minor": 5
}
