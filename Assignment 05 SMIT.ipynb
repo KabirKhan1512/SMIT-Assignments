{
 "cells": [
  {
   "cell_type": "markdown",
   "id": "bb316dd9-bb32-45f4-bead-43983e951c41",
   "metadata": {},
   "source": [
    "# Assignment 5 Question No. 1"
   ]
  },
  {
   "cell_type": "code",
   "execution_count": 1,
   "id": "99b68c7a-89a8-41d5-87eb-a0f015fba048",
   "metadata": {},
   "outputs": [
    {
     "name": "stdout",
     "output_type": "stream",
     "text": [
      "1\n",
      "2\n",
      "3\n",
      "4\n",
      "5\n",
      "6\n",
      "7\n",
      "8\n",
      "9\n",
      "10\n"
     ]
    }
   ],
   "source": [
    "for i in range(1, 11):\n",
    "    print(i)"
   ]
  },
  {
   "cell_type": "markdown",
   "id": "6fae4900-5d2e-41f9-bd78-0abf76801ffe",
   "metadata": {},
   "source": [
    "# Assignment 5 Question No. 2"
   ]
  },
  {
   "cell_type": "code",
   "execution_count": 2,
   "id": "ec857278-8a95-4d4e-a0de-7b587895da72",
   "metadata": {},
   "outputs": [
    {
     "name": "stdout",
     "output_type": "stream",
     "text": [
      "20\n",
      "19\n",
      "18\n",
      "17\n",
      "16\n",
      "15\n",
      "14\n",
      "13\n",
      "12\n",
      "11\n",
      "10\n",
      "9\n",
      "8\n",
      "7\n",
      "6\n",
      "5\n",
      "4\n",
      "3\n",
      "2\n",
      "1\n"
     ]
    }
   ],
   "source": [
    "for i in range(20, 0, -1):\n",
    "    print(i)"
   ]
  },
  {
   "cell_type": "markdown",
   "id": "e0e3980f-3236-4fc7-9949-188eed02f858",
   "metadata": {},
   "source": [
    "# Assignment 5 Question No. 3"
   ]
  },
  {
   "cell_type": "code",
   "execution_count": 6,
   "id": "8a055776-7005-4b2b-905e-71519547488d",
   "metadata": {},
   "outputs": [
    {
     "name": "stdout",
     "output_type": "stream",
     "text": [
      "2\n",
      "4\n",
      "6\n",
      "8\n",
      "10\n",
      "12\n",
      "14\n",
      "16\n",
      "18\n",
      "20\n"
     ]
    }
   ],
   "source": [
    "for i in range(1, 21):\n",
    "    if i % 2 == 0:\n",
    "        print(i)"
   ]
  },
  {
   "cell_type": "markdown",
   "id": "6e4f1f97-0c01-4e7e-b3da-e7340f90bdb7",
   "metadata": {},
   "source": [
    "# Assignment 5 Question No. 4"
   ]
  },
  {
   "cell_type": "code",
   "execution_count": 10,
   "id": "9b4d0936-bb33-467c-9140-24cb438536ca",
   "metadata": {},
   "outputs": [
    {
     "name": "stdin",
     "output_type": "stream",
     "text": [
      "Enter a number:  23\n"
     ]
    },
    {
     "name": "stdout",
     "output_type": "stream",
     "text": [
      "1\n",
      "2\n",
      "3\n",
      "4\n",
      "5\n",
      "6\n",
      "7\n",
      "8\n",
      "9\n",
      "10\n",
      "11\n",
      "12\n",
      "13\n",
      "14\n",
      "15\n",
      "16\n",
      "17\n",
      "18\n",
      "19\n",
      "20\n",
      "21\n",
      "22\n",
      "23\n"
     ]
    }
   ],
   "source": [
    "num = int(input(\"Enter a number: \"))\n",
    "\n",
    "for i in range(1, num + 1):\n",
    "    print(i)"
   ]
  },
  {
   "cell_type": "markdown",
   "id": "353d90c6-38c1-4afe-b58f-38c45615c7d0",
   "metadata": {},
   "source": [
    "# Assignment 5 Question No. 5"
   ]
  },
  {
   "cell_type": "code",
   "execution_count": 11,
   "id": "ffd054f2-acdd-4d08-b96e-7e3b90fdce69",
   "metadata": {},
   "outputs": [
    {
     "name": "stdin",
     "output_type": "stream",
     "text": [
      "Enter a number:  23\n"
     ]
    },
    {
     "name": "stdout",
     "output_type": "stream",
     "text": [
      "1\n",
      "3\n",
      "5\n",
      "7\n",
      "9\n",
      "11\n",
      "13\n",
      "15\n",
      "17\n",
      "19\n",
      "21\n",
      "23\n"
     ]
    }
   ],
   "source": [
    "num = int(input(\"Enter a number: \"))\n",
    "\n",
    "for i in range(1, num + 1):\n",
    "    if i % 2 != 0:\n",
    "        print(i)"
   ]
  },
  {
   "cell_type": "markdown",
   "id": "815cdbd1-250e-49ed-a29c-143fa27e8bbe",
   "metadata": {},
   "source": [
    "# Assignment 5 Question No. 6"
   ]
  },
  {
   "cell_type": "code",
   "execution_count": 12,
   "id": "76357602-e62e-4832-98d4-303c7df3644d",
   "metadata": {},
   "outputs": [
    {
     "name": "stdout",
     "output_type": "stream",
     "text": [
      "Happy Birthday!\n",
      "Happy Birthday!\n",
      "Happy Birthday!\n",
      "Happy Birthday!\n",
      "Happy Birthday!\n"
     ]
    }
   ],
   "source": [
    "for i in range(5):\n",
    "    print(\"Happy Birthday!\")"
   ]
  },
  {
   "cell_type": "markdown",
   "id": "6c8905a1-4e67-4a37-86ca-64fee7c4e853",
   "metadata": {},
   "source": [
    "# Assignment 5 Question No. 7"
   ]
  },
  {
   "cell_type": "code",
   "execution_count": 15,
   "id": "27ebef8f-d0ea-4642-b77e-cf5bda64ede9",
   "metadata": {},
   "outputs": [
    {
     "name": "stdin",
     "output_type": "stream",
     "text": [
      "Enter a number:  6\n"
     ]
    },
    {
     "name": "stdout",
     "output_type": "stream",
     "text": [
      "1\n",
      "4\n",
      "9\n",
      "16\n",
      "25\n",
      "36\n"
     ]
    }
   ],
   "source": [
    "num = int(input(\"Enter a number: \"))\n",
    "\n",
    "for i in range(1, num+1):\n",
    "    print(i ** 2)"
   ]
  },
  {
   "cell_type": "markdown",
   "id": "ac6266d2-1a92-44f5-862e-ad5f3d42cee3",
   "metadata": {},
   "source": [
    "# Assignment 5 Question No. 8"
   ]
  },
  {
   "cell_type": "code",
   "execution_count": 20,
   "id": "97268f1e-6302-4818-a75b-9efbc3295883",
   "metadata": {},
   "outputs": [
    {
     "name": "stdin",
     "output_type": "stream",
     "text": [
      "Enter a number:  5\n"
     ]
    },
    {
     "name": "stdout",
     "output_type": "stream",
     "text": [
      "5 x 1 = 5\n",
      "5 x 2 = 10\n",
      "5 x 3 = 15\n",
      "5 x 4 = 20\n",
      "5 x 5 = 25\n",
      "5 x 6 = 30\n",
      "5 x 7 = 35\n",
      "5 x 8 = 40\n",
      "5 x 9 = 45\n",
      "5 x 10 = 50\n"
     ]
    }
   ],
   "source": [
    "num = int(input(\"Enter a number: \"))\n",
    "\n",
    "for i in range(1, 11):\n",
    "    print(f\"{num} x {i} = {num * i}\")"
   ]
  },
  {
   "cell_type": "markdown",
   "id": "3485de1b-a2c5-40c4-b2b4-5baa01836c26",
   "metadata": {},
   "source": [
    "# Assignment 5 Question No. 9"
   ]
  },
  {
   "cell_type": "code",
   "execution_count": 43,
   "id": "dd54974f-35da-419c-9877-5b0d10b883cc",
   "metadata": {},
   "outputs": [
    {
     "name": "stdout",
     "output_type": "stream",
     "text": [
      "3\n",
      "7\n",
      "11\n",
      "15\n",
      "19\n",
      "23\n",
      "27\n",
      "31\n"
     ]
    }
   ],
   "source": [
    "# for i in range(-1, 28, 4):\n",
    "#     print(i + 4)\n",
    "\n",
    "start = 3\n",
    "for i in range(7):\n",
    "    if start == 3:\n",
    "        print(start)\n",
    "        start = start + 4\n",
    "        print(start)\n",
    "    else:\n",
    "        start = start + 4\n",
    "        print(start)"
   ]
  },
  {
   "cell_type": "markdown",
   "id": "9d91232b-2599-40dd-bd02-c29c9ca7fe0d",
   "metadata": {},
   "source": [
    "# Assignment 5 Question No. 10"
   ]
  },
  {
   "cell_type": "code",
   "execution_count": 41,
   "id": "66cddf8d-f312-41c8-a494-cb7832ec7416",
   "metadata": {},
   "outputs": [
    {
     "name": "stdout",
     "output_type": "stream",
     "text": [
      "2\n",
      "6\n",
      "18\n",
      "54\n",
      "162\n",
      "486\n"
     ]
    }
   ],
   "source": [
    "start = 2\n",
    "for i in range(5):\n",
    "    if start == 2:\n",
    "        print(start)\n",
    "        start = start * 3\n",
    "        print(start)\n",
    "    else:\n",
    "        start = start * 3\n",
    "        print(start)"
   ]
  },
  {
   "cell_type": "markdown",
   "id": "7bff4deb-8b34-41f5-b4a6-7d682e551c38",
   "metadata": {},
   "source": [
    "# Assignment 5 Question No. 11"
   ]
  },
  {
   "cell_type": "code",
   "execution_count": 60,
   "id": "05c9064c-3899-47ab-b13b-f1a485b3bafa",
   "metadata": {},
   "outputs": [
    {
     "name": "stdin",
     "output_type": "stream",
     "text": [
      "Enter a number:  5\n"
     ]
    },
    {
     "name": "stdout",
     "output_type": "stream",
     "text": [
      "15\n"
     ]
    }
   ],
   "source": [
    "num = int(input(\"Enter a number: \"))\n",
    "total = 0\n",
    "for i in range(1, num+1):\n",
    "    total += i\n",
    "print(total)"
   ]
  },
  {
   "cell_type": "markdown",
   "id": "6d835be0-43d0-402f-a4d6-95223bbad1e9",
   "metadata": {},
   "source": [
    "# Assignment 5 Question No. 12"
   ]
  },
  {
   "cell_type": "code",
   "execution_count": 8,
   "id": "76fa0624-6cfe-4c2e-8b13-db0de56d18b5",
   "metadata": {},
   "outputs": [
    {
     "name": "stdin",
     "output_type": "stream",
     "text": [
      "Enter a number:  5\n"
     ]
    },
    {
     "name": "stdout",
     "output_type": "stream",
     "text": [
      "2.28\n"
     ]
    }
   ],
   "source": [
    "num = int(input(\"Enter a number: \"))\n",
    "reciprocal = 0\n",
    "for i in range(1, num+1):\n",
    "    reciprocal += 1/i\n",
    "print(f\"{reciprocal:.2f}\")"
   ]
  },
  {
   "cell_type": "markdown",
   "id": "8236f5ae-4b4e-4476-af42-b50fcb6d41e5",
   "metadata": {},
   "source": [
    "# Assignment 5 Question No. 13"
   ]
  },
  {
   "cell_type": "code",
   "execution_count": 64,
   "id": "aa3b74f0-9b2d-47ca-92d4-e7bfe5c93301",
   "metadata": {},
   "outputs": [
    {
     "name": "stdin",
     "output_type": "stream",
     "text": [
      "Enter a number:  10\n",
      "Enter a number:  15\n",
      "Enter a number:  35\n",
      "Enter a number:  40\n",
      "Enter a number:  50\n"
     ]
    },
    {
     "name": "stdout",
     "output_type": "stream",
     "text": [
      "The final running total is: 150.0\n"
     ]
    }
   ],
   "source": [
    "list = []\n",
    "for i in range(5):\n",
    "    num = float(input(\"Enter a number: \"))\n",
    "    list.append(num)\n",
    "    \n",
    "print(f\"The final running total is: {sum(list)}\")"
   ]
  },
  {
   "cell_type": "markdown",
   "id": "dfa12ff4-f554-4a43-a965-0b79d5227878",
   "metadata": {},
   "source": [
    "# Assignment 5 Question No. 14"
   ]
  },
  {
   "cell_type": "code",
   "execution_count": 2,
   "id": "22d97bf0-320a-4726-826b-f0e193d6947d",
   "metadata": {},
   "outputs": [],
   "source": [
    "def find_factorial():\n",
    "    num = int(input(\"Enter a number: \"))\n",
    "    if num < 0:\n",
    "        print(\"Factorial does not exist for negative number.\")\n",
    "        return\n",
    "    elif num == 0:\n",
    "        print(f\"{num}! is: 1\")\n",
    "        return\n",
    "    total = 1\n",
    "    for i in range(1, num+1):\n",
    "        total = total * i\n",
    "    \n",
    "    print(f\"{num}! is: {total}\")"
   ]
  },
  {
   "cell_type": "code",
   "execution_count": 3,
   "id": "cc9348d3-4250-4f30-864c-fbebfd67ae81",
   "metadata": {},
   "outputs": [
    {
     "name": "stdin",
     "output_type": "stream",
     "text": [
      "Enter a number:  5\n"
     ]
    },
    {
     "name": "stdout",
     "output_type": "stream",
     "text": [
      "5! is: 120\n"
     ]
    }
   ],
   "source": [
    "find_factorial()"
   ]
  },
  {
   "cell_type": "code",
   "execution_count": 4,
   "id": "11e21750-ae89-46b7-8711-f2e32bffc7ce",
   "metadata": {},
   "outputs": [
    {
     "name": "stdin",
     "output_type": "stream",
     "text": [
      "Enter a number:  -1\n"
     ]
    },
    {
     "name": "stdout",
     "output_type": "stream",
     "text": [
      "Factorial does not exist for negative number.\n"
     ]
    }
   ],
   "source": [
    "find_factorial()"
   ]
  },
  {
   "cell_type": "code",
   "execution_count": 5,
   "id": "4c1d4513-b9d4-4595-b371-e19d3feb3d6d",
   "metadata": {},
   "outputs": [
    {
     "name": "stdin",
     "output_type": "stream",
     "text": [
      "Enter a number:  0\n"
     ]
    },
    {
     "name": "stdout",
     "output_type": "stream",
     "text": [
      "0! is: 1\n"
     ]
    }
   ],
   "source": [
    "find_factorial()"
   ]
  },
  {
   "cell_type": "markdown",
   "id": "26e04c02-c9d7-47d2-bf6d-f5ec3f3c065b",
   "metadata": {},
   "source": [
    "# Assignment 5 Question No. 15"
   ]
  },
  {
   "cell_type": "code",
   "execution_count": 7,
   "id": "f79dd3a7-c513-42ec-aa4d-7e7a5949664f",
   "metadata": {},
   "outputs": [
    {
     "name": "stdin",
     "output_type": "stream",
     "text": [
      "Enter a base number:  2\n",
      "Enter a exponent number:  8\n"
     ]
    },
    {
     "name": "stdout",
     "output_type": "stream",
     "text": [
      "256\n"
     ]
    }
   ],
   "source": [
    "num = int(input(\"Enter a base number: \"))\n",
    "exp = int(input(\"Enter a exponent number: \"))\n",
    "\n",
    "total = 1\n",
    "for i in range(exp):\n",
    "    total *= num\n",
    "\n",
    "print(total)"
   ]
  },
  {
   "cell_type": "code",
   "execution_count": null,
   "id": "eef636ef-789a-43d7-b88a-2bed9e753aa2",
   "metadata": {},
   "outputs": [],
   "source": []
  }
 ],
 "metadata": {
  "kernelspec": {
   "display_name": "Python 3 (ipykernel)",
   "language": "python",
   "name": "python3"
  },
  "language_info": {
   "codemirror_mode": {
    "name": "ipython",
    "version": 3
   },
   "file_extension": ".py",
   "mimetype": "text/x-python",
   "name": "python",
   "nbconvert_exporter": "python",
   "pygments_lexer": "ipython3",
   "version": "3.12.4"
  }
 },
 "nbformat": 4,
 "nbformat_minor": 5
}
